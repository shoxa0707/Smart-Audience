{
 "cells": [
  {
   "cell_type": "markdown",
   "metadata": {},
   "source": [
    "## Import necessary libraries"
   ]
  },
  {
   "cell_type": "code",
   "execution_count": 11,
   "metadata": {},
   "outputs": [],
   "source": [
    "import torch\n",
    "import numpy as np\n",
    "import cv2\n",
    "from torch import nn, from_numpy\n",
    "from ultralytics import YOLO\n",
    "from models import Gender, Age"
   ]
  },
  {
   "cell_type": "markdown",
   "metadata": {},
   "source": [
    "## Test with video"
   ]
  },
  {
   "cell_type": "code",
   "execution_count": 12,
   "metadata": {},
   "outputs": [],
   "source": [
    "device = 'cuda' if torch.cuda.is_available() else 'cpu'\n",
    "thresh = 0.5\n",
    "\n",
    "# load models\n",
    "gen_model = Gender()\n",
    "gen_model.load_state_dict(torch.load('models/gen.h5'))\n",
    "gen_model.eval()\n",
    "gen_model.to(device)\n",
    "gen_types = ['Female','Male']\n",
    "\n",
    "age_model = Age()\n",
    "age_model.load_state_dict(torch.load('models/age.h5'))\n",
    "age_model.eval()\n",
    "age_model.to(device)\n",
    "age_types = ['6-20','25-30','42-48','60-98']\n",
    "\n",
    "face_model = YOLO(\"models/face.pt\")\n",
    "\n",
    "video=cv2.VideoCapture(0)\n",
    "while video.isOpened():\n",
    "    ret, frame = video.read()\n",
    "    if ret:\n",
    "        results = face_model.predict(frame, conf=thresh, verbose=False)[0].boxes\n",
    "        for face, score in zip(results.xyxy, results.conf):\n",
    "            face = face.int()\n",
    "            w, h = int(face[2] - face[0]), int(face[3] - face[1])\n",
    "            face_box = frame[face[1]+15:face[3]+15, face[0]+15:face[2]+15]\n",
    "\n",
    "            # preparing image for gender classification\n",
    "            face_gen = cv2.resize(face_box, (96, 96)) / 255.0\n",
    "            face_gen = face_gen.astype(np.float32)\n",
    "            face_gen = face_gen.transpose((2, 0, 1))\n",
    "            face_gen = np.expand_dims(face_gen, axis=0)\n",
    "            face_gen = from_numpy(face_gen)\n",
    "\n",
    "            # preparing image for age classification\n",
    "            face_age = cv2.resize(face_box,(200, 200)) / 255.0\n",
    "            face_age = face_age.astype(np.float32)\n",
    "            face_age = face_age.transpose((2, 0, 1))\n",
    "            face_age = np.expand_dims(face_age, axis=0)\n",
    "            face_age = from_numpy(face_age)\n",
    "\n",
    "            # predictions with models\n",
    "            predict_gen = gen_model(face_gen.to(device))\n",
    "            predict_age = age_model(face_age.to(device))\n",
    "\n",
    "            # If the prediction obtained from the gender model is greater than \n",
    "            # 0.8, it is considered male, otherwise it is considered female\n",
    "            index_gen = 1 if predict_gen > 0.8 else 0\n",
    "            label_gen = gen_types[index_gen]\n",
    "\n",
    "            # the age model takes whichever prediction is the largest\n",
    "            index_age = predict_age.data.argmax(1, keepdim=True)\n",
    "            label_age = age_types[index_age]\n",
    "\n",
    "            cv2.rectangle(frame, (face[0], face[1]), (face[2], face[3]), (0,255,0))\n",
    "            thickness = 1\n",
    "            if w/100 > 1.5:\n",
    "                thickness = 2\n",
    "            cv2.putText(frame, label_gen, (face[0], face[1]-h//20), cv2.FONT_HERSHEY_SIMPLEX, w/100, (255,0,0), thickness)\n",
    "            cv2.putText(frame, label_age, (face[0], face[3]+h//8), cv2.FONT_HERSHEY_SIMPLEX, w/100, (0,0,255), thickness)\n",
    "            cv2.imshow('aql', frame)\n",
    "        if cv2.waitKey(1) & 0xFF==ord('q'):\n",
    "            break\n",
    "    else:\n",
    "        break\n",
    "video.release()\n",
    "cv2.destroyAllWindows()"
   ]
  },
  {
   "cell_type": "code",
   "execution_count": null,
   "metadata": {},
   "outputs": [],
   "source": []
  }
 ],
 "metadata": {
  "interpreter": {
   "hash": "f9383a4bd679aee6628452b0a44be58b71f59d73b35a54131767e8728af36209"
  },
  "kernelspec": {
   "display_name": "Python 3 (ipykernel)",
   "language": "python",
   "name": "python3"
  },
  "language_info": {
   "codemirror_mode": {
    "name": "ipython",
    "version": 3
   },
   "file_extension": ".py",
   "mimetype": "text/x-python",
   "name": "python",
   "nbconvert_exporter": "python",
   "pygments_lexer": "ipython3",
   "version": "3.9.10"
  }
 },
 "nbformat": 4,
 "nbformat_minor": 4
}
